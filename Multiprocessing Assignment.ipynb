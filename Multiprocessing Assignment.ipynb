{
 "cells": [
  {
   "cell_type": "code",
   "execution_count": null,
   "id": "c07787af",
   "metadata": {},
   "outputs": [],
   "source": [
    "Q1. What is multiprocessing in python? Why is it useful?\n",
    "Ans1. The multiprocessing module provides an easy-to-use interface for spawning new processes, communicating between them, and managing their lifetime. It also provides various synchronization primitives like locks, semaphores, and queues to avoid race conditions and data inconsistency issues.\n",
    "Multiprocessing is useful in many situations where the performance of a program needs to be improved by utilizing the available CPU resources effectively"
   ]
  },
  {
   "cell_type": "code",
   "execution_count": null,
   "id": "e1ca7181",
   "metadata": {},
   "outputs": [],
   "source": [
    "Q2. What are the differences between multiprocessing and multithreading?\n",
    "Ans2.  Multiprocessing is generally more suited for CPU-bound tasks that can be parallelized across multiple cores, while multithreading is more suited for I/O-bound tasks that can overlap I/O operations and computation. However, both techniques have their strengths and weaknesses, and the choice of which to use will depend on the specific requirements of the application."
   ]
  },
  {
   "cell_type": "code",
   "execution_count": null,
   "id": "a0826588",
   "metadata": {},
   "outputs": [],
   "source": [
    "Q3. Write a python code to create a process using the multiprocessing module?\n",
    "Ans3.import multiprocessing\n",
    "\n",
    "def worker():\n",
    "    \"\"\"This function will be executed in a separate process\"\"\"\n",
    "    print(\"Worker process started\")\n",
    "    print(\"Worker process finished\")\n",
    "\n",
    "if __name__ == '__main__':\n",
    "   \n",
    "    p = multiprocessing.Process(target=worker)\n",
    "    p.start()\n",
    "    p.join()\n",
    "    print(\"Main process finished\")\n"
   ]
  },
  {
   "cell_type": "code",
   "execution_count": null,
   "id": "8698ac12",
   "metadata": {},
   "outputs": [],
   "source": [
    "Q4. What is a multiprocessing pool in python? Why is it used?\n",
    "Ans4. A multiprocessing pool in Python is a way to create a group of worker processes that can execute tasks in parallel. It is implemented using the multiprocessing.Pool class in the multiprocessing module.\n",
    "The multiprocessing.Pool class provides a convenient way to create a fixed-size pool of worker processes that can execute tasks concurrently. When you create a Pool object, you specify the number of worker processes to create. Each process in the pool can then be assigned a task to execute using the apply, map, or imap methods."
   ]
  },
  {
   "cell_type": "code",
   "execution_count": null,
   "id": "f72ebfdb",
   "metadata": {},
   "outputs": [],
   "source": [
    "Q5. How can we create a pool of worker processes in python using the multiprocessing module?\n",
    "Ans5. import multiprocessing\n",
    "\n",
    "def worker(num):\n",
    "    \"\"\"A simple worker function\"\"\"\n",
    "    print(f\"Worker {num} started\")\n",
    "   \n",
    "    print(f\"Worker {num} finished\")\n",
    "\n",
    "if __name__ == '__main__':\n",
    "   \n",
    "    with multiprocessing.Pool(processes=4) as pool:\n",
    "        \n",
    "        for i in range(10):\n",
    "            pool.apply_async(worker, args=(i,))\n",
    "\n",
    "       \n",
    "        pool.close()\n",
    "        pool.join()\n",
    "\n",
    "    \n",
    "    print(\"Main process finished\")\n"
   ]
  },
  {
   "cell_type": "code",
   "execution_count": null,
   "id": "977604bf",
   "metadata": {},
   "outputs": [],
   "source": [
    "Q6. Write a python program to create 4 processes, each process should print a different number using the multiprocessing module in python?\n",
    "Ans6. import multiprocessing\n",
    "\n",
    "def worker(num):\n",
    "    \"\"\"This function will be executed in a separate process\"\"\"\n",
    "    print(\"Worker process started\")\n",
    "    print(f\"Process {num} is printing a number: {num}\")\n",
    "    print(\"Worker process finished\")\n",
    "\n",
    "if __name__ == '__main__':\n",
    "    \n",
    "    numbers = [1, 2, 3, 4]\n",
    "\n",
    "  \n",
    "    processes = []\n",
    "    for num in numbers:\n",
    "        p = multiprocessing.Process(target=worker, args=(num,))\n",
    "        processes.append(p)\n",
    "\n",
    "    \n",
    "    for p in processes:\n",
    "        p.start()\n",
    "\n",
    "   \n",
    "    for p in processes:\n",
    "        p.join()\n",
    "\n",
    "   \n",
    "    print(\"Main process finished\")\n"
   ]
  }
 ],
 "metadata": {
  "kernelspec": {
   "display_name": "Python 3 (ipykernel)",
   "language": "python",
   "name": "python3"
  },
  "language_info": {
   "codemirror_mode": {
    "name": "ipython",
    "version": 3
   },
   "file_extension": ".py",
   "mimetype": "text/x-python",
   "name": "python",
   "nbconvert_exporter": "python",
   "pygments_lexer": "ipython3",
   "version": "3.9.13"
  }
 },
 "nbformat": 4,
 "nbformat_minor": 5
}
